{
 "cells": [
  {
   "cell_type": "code",
   "execution_count": 95,
   "metadata": {},
   "outputs": [
    {
     "name": "stderr",
     "output_type": "stream",
     "text": [
      "/home/skeptrune/.local/lib/python3.10/site-packages/qdrant_client/qdrant_remote.py:115: UserWarning: Api key is used with unsecure connection.\n",
      "  warnings.warn(\"Api key is used with unsecure connection.\")\n"
     ]
    }
   ],
   "source": [
    "from qdrant_client import QdrantClient\n",
    "\n",
    "qdrant_client = QdrantClient(\n",
    "    url=\"\",\n",
    "    api_key=\"\",\n",
    ")"
   ]
  },
  {
   "cell_type": "code",
   "execution_count": 96,
   "metadata": {},
   "outputs": [
    {
     "data": {
      "text/plain": [
       "'22.10.7.13'"
      ]
     },
     "execution_count": 96,
     "metadata": {},
     "output_type": "execute_result"
    }
   ],
   "source": [
    "import clickhouse_connect\n",
    "\n",
    "clickhouse_client = clickhouse_connect.get_client()\n",
    "clickhouse_client.server_version"
   ]
  },
  {
   "cell_type": "code",
   "execution_count": 97,
   "metadata": {},
   "outputs": [
    {
     "data": {
      "text/plain": [
       "<clickhouse_connect.driver.query.QueryResult at 0x7f4bfed15900>"
      ]
     },
     "execution_count": 97,
     "metadata": {},
     "output_type": "execute_result"
    }
   ],
   "source": [
    "add_unique_constraint_query = \"\"\"\n",
    "DROP TABLE IF EXISTS qdrant_point_ids;\n",
    "\"\"\"\n",
    "\n",
    "clickhouse_client.query(add_unique_constraint_query)\n",
    "\n",
    "create_table_query = \"\"\"\n",
    "CREATE TABLE IF NOT EXISTS qdrant_point_ids\n",
    "(\n",
    "    `point_id` String,\n",
    "    `embedding_vector` Array(Float32)\n",
    ")\n",
    "ENGINE = MergeTree\n",
    "ORDER BY point_id\n",
    "\"\"\"\n",
    "\n",
    "clickhouse_client.query(create_table_query)"
   ]
  },
  {
   "cell_type": "code",
   "execution_count": 98,
   "metadata": {},
   "outputs": [],
   "source": [
    "offset = \"\"\n",
    "\n",
    "while offset is not None:\n",
    "    scroll_result = qdrant_client.scroll(\n",
    "        collection_name=\"debate_cards\",\n",
    "        limit=100,\n",
    "        with_vectors=True,\n",
    "        offset=(offset if offset else None),\n",
    "    )\n",
    "\n",
    "    offset = scroll_result[1]\n",
    "\n",
    "    insert_found_points_query = \"\"\"\n",
    "        INSERT INTO qdrant_point_ids\n",
    "        VALUES\n",
    "        \"\"\"\n",
    "    \n",
    "    for point in scroll_result[0]:\n",
    "        insert_found_points_query += f\"('{point.id}', {point.vector}),\"\n",
    "\n",
    "    clickhouse_client.query(insert_found_points_query)"
   ]
  },
  {
   "cell_type": "code",
   "execution_count": null,
   "metadata": {},
   "outputs": [],
   "source": [
    "get_qdrant_point_ids_count_query = \"\"\"\n",
    "SELECT *\n",
    "FROM qdrant_point_ids\n",
    "LIMIT 1\n",
    "\"\"\"\n",
    "\n",
    "select_result = clickhouse_client.query(get_qdrant_point_ids_count_query).result_rows\n",
    "\n",
    "first_vector = select_result[0][1]"
   ]
  },
  {
   "cell_type": "code",
   "execution_count": null,
   "metadata": {},
   "outputs": [
    {
     "data": {
      "text/plain": [
       "[('01de1f19-b8d3-4087-adc2-7b4179aac558', 0.32473153561611745),\n",
       " ('0091b309-5094-49de-a851-12987c568c84', 0.323417334853784),\n",
       " ('0091b309-5094-49de-a851-12987c568c84', 0.323417334853784),\n",
       " ('017bc8af-fe04-491e-b48a-dd1299eca7f5', 0.3233861418581041),\n",
       " ('0022ee7f-31ed-4619-bf70-80a05f37651a', 0.3232490557283646),\n",
       " ('0022ee7f-31ed-4619-bf70-80a05f37651a', 0.3232490557283646),\n",
       " ('02370150-9d76-499e-afc0-3b39c3e254ae', 0.322509401374503),\n",
       " ('003d04c8-a004-4817-a7cc-ddb5d5e3e0f2', 0.31961699619692663),\n",
       " ('003d04c8-a004-4817-a7cc-ddb5d5e3e0f2', 0.31961699619692663),\n",
       " ('017e5848-1039-44a1-9a3a-2c80fdac2aaa', 0.31956199618951153)]"
      ]
     },
     "execution_count": 94,
     "metadata": {},
     "output_type": "execute_result"
    }
   ],
   "source": [
    "cosine_similarity_query = f\"\"\"\n",
    "SELECT\n",
    "    point_id,\n",
    "    cosineDistance(embedding_vector, {first_vector}) AS score\n",
    "FROM qdrant_point_ids\n",
    "ORDER BY score DESC\n",
    "LIMIT 10\n",
    "\"\"\"\n",
    "\n",
    "select_result = clickhouse_client.query(cosine_similarity_query).result_rows\n",
    "\n",
    "select_result"
   ]
  }
 ],
 "metadata": {
  "kernelspec": {
   "display_name": "Python 3",
   "language": "python",
   "name": "python3"
  },
  "language_info": {
   "codemirror_mode": {
    "name": "ipython",
    "version": 3
   },
   "file_extension": ".py",
   "mimetype": "text/x-python",
   "name": "python",
   "nbconvert_exporter": "python",
   "pygments_lexer": "ipython3",
   "version": "3.10.12"
  },
  "orig_nbformat": 4
 },
 "nbformat": 4,
 "nbformat_minor": 2
}
